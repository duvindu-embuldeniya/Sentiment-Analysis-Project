{
 "cells": [
  {
   "cell_type": "code",
   "execution_count": 2,
   "id": "39cbc4c2-8cc4-430f-9bac-a81b4e308970",
   "metadata": {},
   "outputs": [],
   "source": [
    "import numpy as np\n",
    "import pandas as pd\n",
    "import re\n",
    "import string\n",
    "import pickle"
   ]
  },
  {
   "cell_type": "code",
   "execution_count": 5,
   "id": "999867c5-a21c-40a0-907c-8ea4bd74de79",
   "metadata": {},
   "outputs": [],
   "source": [
    "# Assume the text we give as \"Great product I love it\"...\n",
    "# So what we need to do ?\n",
    "# Convert this into numerical then pass it to model to take a prediction"
   ]
  },
  {
   "cell_type": "code",
   "execution_count": 6,
   "id": "2f781089-dc75-4dba-9c58-1f88999a7fa4",
   "metadata": {},
   "outputs": [],
   "source": [
    "# Below consist remove_punctuation method and important dirs for preprocess our give text(what user gives)"
   ]
  },
  {
   "cell_type": "code",
   "execution_count": 3,
   "id": "ffb79062-096a-4101-974f-116f41ebd8a5",
   "metadata": {},
   "outputs": [],
   "source": [
    "def remove_punctuations(text):\n",
    "    for punctuation in string.punctuation:\n",
    "        text = text.replace(punctuation, '')\n",
    "    return text"
   ]
  },
  {
   "cell_type": "code",
   "execution_count": 4,
   "id": "74d4219f-decf-4c88-be6d-1caf1fe58b44",
   "metadata": {},
   "outputs": [],
   "source": [
    "with open('../static/model/model.pickle', 'rb') as f:\n",
    "    model = pickle.load(f)"
   ]
  },
  {
   "cell_type": "code",
   "execution_count": 5,
   "id": "6b4b8ea5-85aa-4a7a-8882-050ec5090d46",
   "metadata": {},
   "outputs": [],
   "source": [
    "with open('../static/model/corpora/stopwords/english', 'r') as file:\n",
    "    sw = file.read().splitlines()"
   ]
  },
  {
   "cell_type": "code",
   "execution_count": 6,
   "id": "f917c0be-c224-4052-be9d-4ea6ad88d35d",
   "metadata": {},
   "outputs": [],
   "source": [
    "vocab = pd.read_csv('../static/model/vocabulary.txt', header=None)\n",
    "tokens = vocab[0].tolist()"
   ]
  },
  {
   "cell_type": "code",
   "execution_count": 7,
   "id": "55a46461-a07b-4b9f-b9a3-c01f26835119",
   "metadata": {},
   "outputs": [],
   "source": [
    "from nltk.stem import PorterStemmer\n",
    "ps = PorterStemmer()"
   ]
  },
  {
   "cell_type": "code",
   "execution_count": 8,
   "id": "f5fdfc2c-6e99-47c6-969c-411dea115bbb",
   "metadata": {},
   "outputs": [],
   "source": [
    "# Make a dataframe and apply ourprevious text-preprocessing methods\n",
    "def preprocessing(text):\n",
    "    data = pd.DataFrame([text], columns=['tweet'])\n",
    "    data[\"tweet\"] = data[\"tweet\"].apply(lambda x: \" \".join(x.lower() for x in x.split()))\n",
    "    data[\"tweet\"] = data['tweet'].apply(lambda x: \" \".join(re.sub(r'^https?:\\/\\/.*[\\r\\n]*', '', x, flags=re.MULTILINE) for x in x.split()))\n",
    "    data[\"tweet\"] = data[\"tweet\"].apply(remove_punctuations)\n",
    "    data[\"tweet\"] = data['tweet'].str.replace(r'\\d+', '', regex=True)\n",
    "    data[\"tweet\"] = data[\"tweet\"].apply(lambda x: \" \".join(x for x in x.split() if x not in sw))\n",
    "    data[\"tweet\"] = data[\"tweet\"].apply(lambda x: \" \".join(ps.stem(x) for x in x.split()))\n",
    "    return data[\"tweet\"]"
   ]
  },
  {
   "cell_type": "code",
   "execution_count": 9,
   "id": "8b4bcdca-e5c0-4933-b700-5d34f74ce133",
   "metadata": {},
   "outputs": [],
   "source": [
    "# Convert that tweet(text) into numerical\n",
    "def vectorizer(ds, vocabulary):\n",
    "    vectorized_lst = []\n",
    "    \n",
    "    for sentence in ds:\n",
    "        sentence_lst = np.zeros(len(vocabulary))\n",
    "        \n",
    "        for i in range(len(vocabulary)):\n",
    "            if vocabulary[i] in sentence.split():\n",
    "                sentence_lst[i] = 1\n",
    "                \n",
    "        vectorized_lst.append(sentence_lst)\n",
    "        \n",
    "    vectorized_lst_new = np.asarray(vectorized_lst, dtype=np.float32)\n",
    "    \n",
    "    return vectorized_lst_new"
   ]
  },
  {
   "cell_type": "code",
   "execution_count": 21,
   "id": "53fff1b8-0a73-4dbb-a139-c84ee1c31d6a",
   "metadata": {},
   "outputs": [
    {
     "data": {
      "text/plain": [
       "array([0])"
      ]
     },
     "execution_count": 21,
     "metadata": {},
     "output_type": "execute_result"
    }
   ],
   "source": [
    "# Test Case 1... Success\n",
    "# txt = \"awesome product. i love ths\"\n",
    "# preprocessed_text = preprocessing(txt)\n",
    "# vectorized_text =  vectorizer(preprocessed_text, tokens)\n",
    "# prediction = model.predict(vectorized_text)\n",
    "# prediction"
   ]
  },
  {
   "cell_type": "code",
   "execution_count": 22,
   "id": "85de0f83-8598-400c-9f0e-0cafcac7cefd",
   "metadata": {},
   "outputs": [
    {
     "data": {
      "text/plain": [
       "array([1])"
      ]
     },
     "execution_count": 22,
     "metadata": {},
     "output_type": "execute_result"
    }
   ],
   "source": [
    "# # Test Case 2... Success\n",
    "# txt = \"bad . i hat this\"\n",
    "# preprocessed_text = preprocessing(txt)\n",
    "# vectorized_text =  vectorizer(preprocessed_text, tokens)\n",
    "# prediction = model.predict(vectorized_text)\n",
    "# prediction"
   ]
  },
  {
   "cell_type": "code",
   "execution_count": 11,
   "id": "4852348e-eb60-4c6b-a937-8f393d84f8d5",
   "metadata": {},
   "outputs": [],
   "source": [
    "def get_prediction(vectorized_text):\n",
    "    prediction = model.predict(vectorized_text)\n",
    "    if prediction == 1:\n",
    "        return 'negative'\n",
    "    else:\n",
    "        return 'positive'"
   ]
  },
  {
   "cell_type": "code",
   "execution_count": 25,
   "id": "33a22d54-9841-44d9-ac02-2ec54072da90",
   "metadata": {},
   "outputs": [
    {
     "data": {
      "text/plain": [
       "'positive'"
      ]
     },
     "execution_count": 25,
     "metadata": {},
     "output_type": "execute_result"
    }
   ],
   "source": [
    "txt = \"awesome product. i love it\"\n",
    "preprocessed_txt = preprocessing(txt)\n",
    "vectorized_txt = vectorizer(preprocessed_txt, tokens)\n",
    "prediction = get_prediction(vectorized_txt)\n",
    "prediction"
   ]
  },
  {
   "cell_type": "code",
   "execution_count": 26,
   "id": "57fd26aa-ab2b-400d-af9f-63bfeeae211c",
   "metadata": {},
   "outputs": [
    {
     "data": {
      "text/plain": [
       "'negative'"
      ]
     },
     "execution_count": 26,
     "metadata": {},
     "output_type": "execute_result"
    }
   ],
   "source": [
    "txt = \"BAD, hate this\"\n",
    "preprocessed_txt = preprocessing(txt)\n",
    "vectorized_txt = vectorizer(preprocessed_txt, tokens)\n",
    "prediction = get_prediction(vectorized_txt)\n",
    "prediction"
   ]
  },
  {
   "cell_type": "code",
   "execution_count": null,
   "id": "28daea68-5bec-4927-b7e2-565b197aef54",
   "metadata": {},
   "outputs": [],
   "source": []
  }
 ],
 "metadata": {
  "kernelspec": {
   "display_name": "Python 3 (ipykernel)",
   "language": "python",
   "name": "python3"
  },
  "language_info": {
   "codemirror_mode": {
    "name": "ipython",
    "version": 3
   },
   "file_extension": ".py",
   "mimetype": "text/x-python",
   "name": "python",
   "nbconvert_exporter": "python",
   "pygments_lexer": "ipython3",
   "version": "3.13.0"
  }
 },
 "nbformat": 4,
 "nbformat_minor": 5
}
